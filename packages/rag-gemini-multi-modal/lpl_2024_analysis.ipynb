{
 "cells": [
  {
   "cell_type": "code",
   "execution_count": 3,
   "metadata": {},
   "outputs": [],
   "source": [
    "from langserve import RemoteRunnable\n",
    "\n",
    "chain = RemoteRunnable(\"http://127.0.0.1:8000/rag-gemini-multi-modal/c/N4XyA\")\n"
   ]
  },
  {
   "cell_type": "code",
   "execution_count": 6,
   "metadata": {},
   "outputs": [
    {
     "data": {
      "text/plain": [
       "' Based on the provided images, it is likely that TOP will get first blood due to their higher early game strength. They have a significant lead in gold and have secured more dragons. However, Bilibili has secured more barons, which could give them an advantage in the late game. Overall, TOP is in a stronger position to win the game.'"
      ]
     },
     "execution_count": 6,
     "metadata": {},
     "output_type": "execute_result"
    }
   ],
   "source": [
    "\n",
    "prompt_1 = \"\"\"\n",
    "Given the LPL Spring 2024 playoffs between TOP and Bilbili, who is likely to get first blood, examine early game strength (gold lead), and objective control (dragons) and barons\n",
    "\n",
    "\n",
    "\"\"\"\n",
    "rag_app.invoke(prompt_1)"
   ]
  },
  {
   "cell_type": "code",
   "execution_count": null,
   "metadata": {},
   "outputs": [],
   "source": []
  }
 ],
 "metadata": {
  "kernelspec": {
   "display_name": "Python 3",
   "language": "python",
   "name": "python3"
  },
  "language_info": {
   "codemirror_mode": {
    "name": "ipython",
    "version": 3
   },
   "file_extension": ".py",
   "mimetype": "text/x-python",
   "name": "python",
   "nbconvert_exporter": "python",
   "pygments_lexer": "ipython3",
   "version": "3.10.11"
  }
 },
 "nbformat": 4,
 "nbformat_minor": 2
}
